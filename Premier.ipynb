{
  "nbformat": 4,
  "nbformat_minor": 0,
  "metadata": {
    "colab": {
      "provenance": [],
      "authorship_tag": "ABX9TyN5kXgztF4okSFlWfwE0HjD",
      "include_colab_link": true
    },
    "kernelspec": {
      "name": "python3",
      "display_name": "Python 3"
    },
    "language_info": {
      "name": "python"
    }
  },
  "cells": [
    {
      "cell_type": "markdown",
      "metadata": {
        "id": "view-in-github",
        "colab_type": "text"
      },
      "source": [
        "<a href=\"https://colab.research.google.com/github/elyao-manizan/emmanuel/blob/main/Premier.ipynb\" target=\"_parent\"><img src=\"https://colab.research.google.com/assets/colab-badge.svg\" alt=\"Open In Colab\"/></a>"
      ]
    },
    {
      "cell_type": "code",
      "execution_count": 3,
      "metadata": {
        "colab": {
          "base_uri": "https://localhost:8080/"
        },
        "id": "OodJeKYrL3_X",
        "outputId": "4b14323d-77b6-45a4-f899-0913e041bad3"
      },
      "outputs": [
        {
          "output_type": "stream",
          "name": "stdout",
          "text": [
            "Déviné le nombre secret entre 0 et 5 : 4\n",
            "Désolé, ce n'est pas le nombre secret.\n",
            "Le nombre secret était :  1\n",
            " Au revoir !\n"
          ]
        }
      ],
      "source": [
        "import random\n",
        "nombre_secret = random.randint(0, 5)\n",
        "choix_utilisateur = int(input(\"Déviné le nombre secret entre 0 et 5 : \"))\n",
        "if choix_utilisateur == nombre_secret:\n",
        "  print(\"Bravo ! Tu as deviné le nombre secret.\")\n",
        "else:\n",
        "  print(\"Désolé, ce n'est pas le nombre secret.\")\n",
        "  print(\"Le nombre secret était : \", nombre_secret)\n",
        "  print(\" Au revoir !\")\n"
      ]
    },
    {
      "cell_type": "code",
      "source": [],
      "metadata": {
        "id": "gvJi3JreO0Xw"
      },
      "execution_count": null,
      "outputs": []
    }
  ]
}